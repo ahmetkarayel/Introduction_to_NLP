{
 "cells": [
  {
   "cell_type": "markdown",
   "id": "a9a37aab-784c-455c-824b-55e5c0b44c07",
   "metadata": {},
   "source": [
    "# İş Problemi"
   ]
  },
  {
   "cell_type": "markdown",
   "id": "4d158373-3f72-47eb-965a-c609c1189729",
   "metadata": {},
   "source": [
    "* Amazon üzerinden satışlarını gerçekleştiren ev tekstili ve günlük giyim odaklı üretimler yapan Kozmos ürünlerine gelen yorumları analiz ederek ve aldığı şikayetlere göre özelliklerini geliştirerek satışlarını artırmayı hedeflemektedir. Bu hedef doğrultusunda yorumlara duygu analizi yapılarak etiketlencek ve etiketlenen veri ile sınıflandırma modeli oluşturulacaktır"
   ]
  },
  {
   "cell_type": "markdown",
   "id": "229bebf4-e03b-4a6f-8c26-4ffc66569543",
   "metadata": {},
   "source": [
    "# Veri Seti Hikayesi"
   ]
  },
  {
   "cell_type": "markdown",
   "id": "e85cbede-5862-4d66-a1a7-9aaf4a97b0e9",
   "metadata": {},
   "source": [
    "* Veri seti belirli bir ürün grubuna ait yapılan yorumları, yorum başlığını, yıldız sayısını ve yapılan yorumu kaç kişinin faydalı bulduğunu belirten değişkenlerden oluşmaktadır.  \n",
    "\n",
    ">> * **Star:** Ürüne verilen yıldız sayısı \n",
    ">> * **HelpFul:** Yorumu faydalı bulan kişi sayısı \n",
    ">> * **Title:** Yorum içeriğine verilen başlık, kısa yorum  \n",
    ">> * **Review:** Ürüne yapılan yorum"
   ]
  },
  {
   "cell_type": "code",
   "execution_count": 1,
   "id": "b9ab6880-0489-44aa-9c3f-75325c872300",
   "metadata": {},
   "outputs": [],
   "source": [
    "from warnings import filterwarnings\n",
    "import matplotlib.pyplot as plt\n",
    "import numpy as np\n",
    "import pandas as pd\n",
    "from PIL import Image\n",
    "from nltk.corpus import stopwords\n",
    "from nltk.sentiment import SentimentIntensityAnalyzer\n",
    "from sklearn.ensemble import RandomForestClassifier\n",
    "from sklearn.linear_model import LogisticRegression\n",
    "from sklearn.model_selection import cross_val_score, GridSearchCV, cross_validate, train_test_split\n",
    "from sklearn.metrics import classification_report\n",
    "from sklearn.preprocessing import LabelEncoder\n",
    "from textblob import Word, TextBlob\n",
    "from wordcloud import WordCloud\n",
    "\n",
    "filterwarnings('ignore')\n",
    "pd.set_option('display.max_columns', None)\n",
    "pd.set_option('display.width', 200)\n",
    "pd.set_option('display.float_format', lambda x: '%.2f' % x)"
   ]
  },
  {
   "cell_type": "markdown",
   "id": "b45f3581-728d-435b-8f35-64be11da946f",
   "metadata": {},
   "source": [
    "# Görev-1: Metin Ön İşleme"
   ]
  },
  {
   "cell_type": "markdown",
   "id": "4a0c26dd-2a8f-452b-a0e4-379fbb443cf2",
   "metadata": {},
   "source": [
    "> * **Adım 1:** \"amazon.xlsx\" verisini okutunuz."
   ]
  },
  {
   "cell_type": "code",
   "execution_count": 2,
   "id": "8186c3ae-c675-49e7-bee3-108b5bd61402",
   "metadata": {},
   "outputs": [
    {
     "data": {
      "text/html": [
       "<div>\n",
       "<style scoped>\n",
       "    .dataframe tbody tr th:only-of-type {\n",
       "        vertical-align: middle;\n",
       "    }\n",
       "\n",
       "    .dataframe tbody tr th {\n",
       "        vertical-align: top;\n",
       "    }\n",
       "\n",
       "    .dataframe thead th {\n",
       "        text-align: right;\n",
       "    }\n",
       "</style>\n",
       "<table border=\"1\" class=\"dataframe\">\n",
       "  <thead>\n",
       "    <tr style=\"text-align: right;\">\n",
       "      <th></th>\n",
       "      <th>Star</th>\n",
       "      <th>HelpFul</th>\n",
       "      <th>Title</th>\n",
       "      <th>Review</th>\n",
       "    </tr>\n",
       "  </thead>\n",
       "  <tbody>\n",
       "    <tr>\n",
       "      <th>0</th>\n",
       "      <td>5</td>\n",
       "      <td>0</td>\n",
       "      <td>looks great</td>\n",
       "      <td>Happy with it</td>\n",
       "    </tr>\n",
       "    <tr>\n",
       "      <th>1</th>\n",
       "      <td>5</td>\n",
       "      <td>0</td>\n",
       "      <td>Pattern did not align between the two panels.</td>\n",
       "      <td>Good quality material however the panels are m...</td>\n",
       "    </tr>\n",
       "    <tr>\n",
       "      <th>2</th>\n",
       "      <td>5</td>\n",
       "      <td>0</td>\n",
       "      <td>Imagery is stretched. Still fun.</td>\n",
       "      <td>Product was fun for bedroom windows.&lt;br /&gt;Imag...</td>\n",
       "    </tr>\n",
       "    <tr>\n",
       "      <th>3</th>\n",
       "      <td>5</td>\n",
       "      <td>0</td>\n",
       "      <td>Que se ven elegantes muy finas</td>\n",
       "      <td>Lo unico que me gustaria es que sean un poco ...</td>\n",
       "    </tr>\n",
       "    <tr>\n",
       "      <th>4</th>\n",
       "      <td>5</td>\n",
       "      <td>0</td>\n",
       "      <td>Wow great purchase</td>\n",
       "      <td>Great bang for the buck I can't believe the qu...</td>\n",
       "    </tr>\n",
       "  </tbody>\n",
       "</table>\n",
       "</div>"
      ],
      "text/plain": [
       "   Star  HelpFul                                          Title                                             Review\n",
       "0     5        0                                    looks great                                      Happy with it\n",
       "1     5        0  Pattern did not align between the two panels.  Good quality material however the panels are m...\n",
       "2     5        0               Imagery is stretched. Still fun.  Product was fun for bedroom windows.<br />Imag...\n",
       "3     5        0                 Que se ven elegantes muy finas   Lo unico que me gustaria es que sean un poco ...\n",
       "4     5        0                             Wow great purchase  Great bang for the buck I can't believe the qu..."
      ]
     },
     "execution_count": 2,
     "metadata": {},
     "output_type": "execute_result"
    }
   ],
   "source": [
    "df = pd.read_excel(\"datasets/amazon.xlsx\")\n",
    "df.head()"
   ]
  },
  {
   "cell_type": "markdown",
   "id": "31f10caf-bde0-433c-9ef4-b2ea8094aacc",
   "metadata": {},
   "source": [
    "> * **Adım 2:** Review değişkeni üzerinde ;\n",
    ">> * Tüm harfleri küçük harfe çeviriniz.  \n",
    ">> * Noktalama işaretlerini çıkarınız.  \n",
    ">> * Yorumlarda bulunan sayısal ifadeleri çıkarınız.  \n",
    ">> * Bilgi içermeyen kelimeleri (stopwords) veriden çıkarınız.  \n",
    ">> * 1000'den az geçen kelimeleri veriden çıkarınız.  \n",
    ">> * Lemmatization işlemini uygulayınız. "
   ]
  },
  {
   "cell_type": "code",
   "execution_count": 3,
   "id": "92cf2fdc-bef0-4368-9d82-168ca68bce3e",
   "metadata": {},
   "outputs": [
    {
     "data": {
      "text/plain": [
       "0                                           happy with it\n",
       "1       good quality material however the panels are m...\n",
       "2       product was fun for bedroom windows.<br />imag...\n",
       "3        lo unico que me gustaria es que sean un poco ...\n",
       "4       great bang for the buck i can't believe the qu...\n",
       "                              ...                        \n",
       "5606    great product for reasonable money.  delivered...\n",
       "5607             color is way off and panels do not match\n",
       "5608    these are great for my studio as they compleme...\n",
       "5609    brought out the beauty in kids room. they love...\n",
       "5610    very cute curtains in my sons room! thick enou...\n",
       "Name: Review, Length: 5611, dtype: object"
      ]
     },
     "execution_count": 3,
     "metadata": {},
     "output_type": "execute_result"
    }
   ],
   "source": [
    "# Küçük harfe çevirelim.\n",
    "\n",
    "df[\"Review\"] = df[\"Review\"].str.lower()\n",
    "df.Review"
   ]
  },
  {
   "cell_type": "code",
   "execution_count": 4,
   "id": "0f372678-e41c-4dc2-a0f1-1f18bb264064",
   "metadata": {},
   "outputs": [
    {
     "data": {
      "text/plain": [
       "0                                           happy with it\n",
       "1       good quality material however the panels are m...\n",
       "2       product was fun for bedroom windowsbr imagery ...\n",
       "3        lo unico que me gustaria es que sean un poco ...\n",
       "4       great bang for the buck i cant believe the qua...\n",
       "                              ...                        \n",
       "5606    great product for reasonable money  delivered ...\n",
       "5607             color is way off and panels do not match\n",
       "5608    these are great for my studio as they compleme...\n",
       "5609     brought out the beauty in kids room they love it\n",
       "5610    very cute curtains in my sons room thick enoug...\n",
       "Name: Review, Length: 5611, dtype: object"
      ]
     },
     "execution_count": 4,
     "metadata": {},
     "output_type": "execute_result"
    }
   ],
   "source": [
    "# Noktalama işaretlerindne kurtulalım.\n",
    "\n",
    "df[\"Review\"] = df[\"Review\"].str.replace(\"[^\\w\\s]\", \"\")\n",
    "df.Review"
   ]
  },
  {
   "cell_type": "code",
   "execution_count": 5,
   "id": "5a7cdd0a-3949-4abc-b603-26a4ea6668a8",
   "metadata": {},
   "outputs": [
    {
     "data": {
      "text/plain": [
       "0                                           happy with it\n",
       "1       good quality material however the panels are m...\n",
       "2       product was fun for bedroom windowsbr imagery ...\n",
       "3        lo unico que me gustaria es que sean un poco ...\n",
       "4       great bang for the buck i cant believe the qua...\n",
       "                              ...                        \n",
       "5606    great product for reasonable money  delivered ...\n",
       "5607             color is way off and panels do not match\n",
       "5608    these are great for my studio as they compleme...\n",
       "5609     brought out the beauty in kids room they love it\n",
       "5610    very cute curtains in my sons room thick enoug...\n",
       "Name: Review, Length: 5611, dtype: object"
      ]
     },
     "execution_count": 5,
     "metadata": {},
     "output_type": "execute_result"
    }
   ],
   "source": [
    "# Sayısal ifadeleri çıkartalım.\n",
    "\n",
    "df[\"Review\"] = df[\"Review\"].str.replace(\"\\d\", \"\")\n",
    "df.Review"
   ]
  },
  {
   "cell_type": "code",
   "execution_count": 6,
   "id": "9a01ab2a-73a3-4ab0-b197-68f0c2443eae",
   "metadata": {},
   "outputs": [
    {
     "data": {
      "text/plain": [
       "0                                                   happy\n",
       "1         good quality material however panels mismatched\n",
       "2       product fun bedroom windowsbr imagery bit stre...\n",
       "3       lo unico que gustaria es que sean un poco mas ...\n",
       "4       great bang buck cant believe quality material ...\n",
       "                              ...                        \n",
       "5606    great product reasonable money delivered quick...\n",
       "5607                               color way panels match\n",
       "5608    great studio complement entire theme studioliv...\n",
       "5609                        brought beauty kids room love\n",
       "5610      cute curtains sons room thick enough keep light\n",
       "Name: Review, Length: 5611, dtype: object"
      ]
     },
     "execution_count": 6,
     "metadata": {},
     "output_type": "execute_result"
    }
   ],
   "source": [
    "# stopwords'leri çıkartalım.\n",
    "\n",
    "sw = stopwords.words(\"english\") # İngilizce stopwords'leri kaydettik.\n",
    "\n",
    "df[\"Review\"] = df[\"Review\"].apply(lambda x: \" \".join(x for x in str(x).split() if x not in sw))\n",
    "df.Review\n",
    "# happy with it --> happy"
   ]
  },
  {
   "cell_type": "code",
   "execution_count": 7,
   "id": "02b18a59-3bb1-4fe4-9078-241b57719eb3",
   "metadata": {},
   "outputs": [
    {
     "name": "stdout",
     "output_type": "stream",
     "text": [
      "curtains     1891\n",
      "love         1312\n",
      "room         1116\n",
      "like         1037\n",
      "beautiful     943\n",
      "great         921\n",
      "quality       889\n",
      "look          879\n",
      "nice          707\n",
      "curtain       697\n",
      "looks         652\n",
      "picture       640\n",
      "material      561\n",
      "light         552\n",
      "good          535\n",
      "colors        500\n",
      "really        447\n",
      "would         427\n",
      "perfect       423\n",
      "well          409\n",
      "dtype: int64\n"
     ]
    }
   ],
   "source": [
    "# Frekansı 1000'den az kelimeler\n",
    "\n",
    "temp_df = pd.Series(\" \".join(df[\"Review\"]).split()).value_counts() # Bir thresholda göre ayıklama yapacağımız için tüm kelimeleri saydırıyoruz.\n",
    "print(temp_df[:20])\n",
    "\n"
   ]
  },
  {
   "cell_type": "code",
   "execution_count": 8,
   "id": "0a9af040-7351-435a-9123-d0cbe198d105",
   "metadata": {},
   "outputs": [],
   "source": [
    "#drops = temp_df[temp_df <1000] # 1000'den az geçen kelimeler\n",
    "#df[\"Review\"] = df[\"Review\"].apply(lambda x: \" \".join(x for x in x.split() if x not in drops)) # Frekansı 1000'den az olan kelimelerden kurtulduk.\n",
    "#df.Review # Şu an verimizde boş satırlar var. Çünkü Frekansı 1000'den az olan kelimeleri çıkarttık.\n",
    "\n",
    "# Frekansa göre kelimeleri ayıkladıktan sonra ortaya çıkan boş satırlardan kurtuldum.\n",
    "#df[\"Review\"] = df.Review.replace(\"\", np.nan)\n",
    "#df.dropna(inplace=True)"
   ]
  },
  {
   "cell_type": "code",
   "execution_count": 9,
   "id": "263d9028-2ea6-4acb-9b5a-9e59b81b6ffe",
   "metadata": {},
   "outputs": [
    {
     "data": {
      "text/plain": [
       "0                                                   happy\n",
       "1          good quality material however panel mismatched\n",
       "2       product fun bedroom windowsbr imagery bit stre...\n",
       "3       lo unico que gustaria e que sean un poco ma la...\n",
       "4       great bang buck cant believe quality material ...\n",
       "                              ...                        \n",
       "5606    great product reasonable money delivered quick...\n",
       "5607                                color way panel match\n",
       "5608    great studio complement entire theme studioliv...\n",
       "5609                         brought beauty kid room love\n",
       "5610        cute curtain son room thick enough keep light\n",
       "Name: Review, Length: 5611, dtype: object"
      ]
     },
     "execution_count": 9,
     "metadata": {},
     "output_type": "execute_result"
    }
   ],
   "source": [
    "# Lemmatization işlemi (Kelimeleri köküne indirgeme)\n",
    "\n",
    "df[\"Review\"] = df[\"Review\"].apply(lambda x: \" \".join([Word(word).lemmatize() for word in x.split()]))\n",
    "df.Review"
   ]
  },
  {
   "cell_type": "markdown",
   "id": "0de2f9ae-175c-42d5-b417-0df158744336",
   "metadata": {},
   "source": [
    "# Görev-2: Metin Görselleştirme"
   ]
  },
  {
   "cell_type": "markdown",
   "id": "85f5c2e5-b079-480b-baea-9f6a4a334a0a",
   "metadata": {},
   "source": [
    "> * **Adım 1:** Barplot görselleştirme işlemi için; \n",
    ">> * \"Review\" değişkeninin içerdiği kelimeleri frekanslarını hesaplayınız, tf olarak kaydediniz. \n",
    ">> * tf dataframe'inin sütunlarını yeniden adlandırınız: \"words\", \"tf\" şeklinde. \n",
    ">> * \"tf\" değişkeninin değeri 500'den çok olanlara göre filtreleme işlemi yaparak barplot ile görselleştirme işlemini tamamlayınız."
   ]
  },
  {
   "cell_type": "code",
   "execution_count": 10,
   "id": "c92adaa5-556d-4405-9112-12de9deba807",
   "metadata": {},
   "outputs": [
    {
     "data": {
      "text/html": [
       "<div>\n",
       "<style scoped>\n",
       "    .dataframe tbody tr th:only-of-type {\n",
       "        vertical-align: middle;\n",
       "    }\n",
       "\n",
       "    .dataframe tbody tr th {\n",
       "        vertical-align: top;\n",
       "    }\n",
       "\n",
       "    .dataframe thead th {\n",
       "        text-align: right;\n",
       "    }\n",
       "</style>\n",
       "<table border=\"1\" class=\"dataframe\">\n",
       "  <thead>\n",
       "    <tr style=\"text-align: right;\">\n",
       "      <th></th>\n",
       "      <th>words</th>\n",
       "      <th>tf</th>\n",
       "    </tr>\n",
       "  </thead>\n",
       "  <tbody>\n",
       "    <tr>\n",
       "      <th>0</th>\n",
       "      <td>happy</td>\n",
       "      <td>196.00</td>\n",
       "    </tr>\n",
       "    <tr>\n",
       "      <th>1</th>\n",
       "      <td>good</td>\n",
       "      <td>536.00</td>\n",
       "    </tr>\n",
       "    <tr>\n",
       "      <th>2</th>\n",
       "      <td>quality</td>\n",
       "      <td>889.00</td>\n",
       "    </tr>\n",
       "    <tr>\n",
       "      <th>3</th>\n",
       "      <td>material</td>\n",
       "      <td>565.00</td>\n",
       "    </tr>\n",
       "    <tr>\n",
       "      <th>4</th>\n",
       "      <td>however</td>\n",
       "      <td>78.00</td>\n",
       "    </tr>\n",
       "  </tbody>\n",
       "</table>\n",
       "</div>"
      ],
      "text/plain": [
       "      words     tf\n",
       "0     happy 196.00\n",
       "1      good 536.00\n",
       "2   quality 889.00\n",
       "3  material 565.00\n",
       "4   however  78.00"
      ]
     },
     "execution_count": 10,
     "metadata": {},
     "output_type": "execute_result"
    }
   ],
   "source": [
    "# Satır bazında ilgili kelimelerin frekanslarını çıkartıyorum.\n",
    "\n",
    "tf = df[\"Review\"].apply(lambda x: pd.value_counts(x.split(\" \"))).sum(axis=0).reset_index()\n",
    "tf.columns = [\"words\", \"tf\"]\n",
    "tf.head()"
   ]
  },
  {
   "cell_type": "code",
   "execution_count": 11,
   "id": "e20815dc-4b9f-4e31-8b1e-97887974e943",
   "metadata": {},
   "outputs": [
    {
     "data": {
      "image/png": "[encoded data removed]",
      "text/plain": [
       "<Figure size 432x288 with 1 Axes>"
      ]
     },
     "metadata": {
      "needs_background": "light"
     },
     "output_type": "display_data"
    }
   ],
   "source": [
    "# tf değişkeninin 500'den çok olanlarına barplot uyguluyorum.\n",
    "\n",
    "tf[tf[\"tf\"] > 500].plot.bar(x=\"words\", y=\"tf\")\n",
    "plt.show()\n",
    "# En çok geçen kelimenin \"curtain\" olduğu çok açık gözüküyor."
   ]
  },
  {
   "cell_type": "markdown",
   "id": "ac80c754-785d-4d13-88c4-5946d7c11ced",
   "metadata": {},
   "source": [
    "> * **Adım 2:** WordCloud görselleştirme işlemi için; \n",
    ">> * \"Review\" değişkeninin içerdiği tüm kelimeleri \"text\" isminde string olarak kaydediniz. \n",
    ">> * WordCloud kullanarak şablon şeklinizi belirleyip kaydediniz. \n",
    ">> * Kaydettiğiniz wordcloud'u ilk adımda oluşturduğunuz string ile generate ediniz. \n",
    ">> * Görselleştirme adımlarını tamamlayınız. (figure, imshow, axis, show)"
   ]
  },
  {
   "cell_type": "code",
   "execution_count": 12,
   "id": "d1d9d1be-1240-40e6-b174-b691d7031e35",
   "metadata": {},
   "outputs": [
    {
     "data": {
      "image/png": "[encoded data removed]",
      "text/plain": [
       "<Figure size 432x288 with 1 Axes>"
      ]
     },
     "metadata": {
      "needs_background": "light"
     },
     "output_type": "display_data"
    }
   ],
   "source": [
    "# Tüm datayı tek bir text haline dönüştürdük.\n",
    "text = \" \".join(i for i in df.Review)\n",
    "\n",
    "wordcloud = WordCloud(max_font_size=50,\n",
    "                      max_words=230,\n",
    "                      background_color=\"white\").generate(text)\n",
    "\n",
    "plt.imshow(wordcloud, interpolation=\"bilinear\") # Frekanslara göre kelime boyutları artıyor.\n",
    "plt.axis(\"off\")\n",
    "plt.show()"
   ]
  },
  {
   "cell_type": "markdown",
   "id": "689a5729-28ee-44b9-be13-4ed9a1d8b914",
   "metadata": {},
   "source": [
    "# Görev-3: Duygu Analizi"
   ]
  },
  {
   "cell_type": "markdown",
   "id": "56ab9516-29f1-4dff-a6e5-0cc5897dce9e",
   "metadata": {},
   "source": [
    "> * **Adım 1:**  Python içerisindeki NLTK paketinde tanımlanmış olan SentimentIntensityAnalyzer nesnesini oluşturunuz. "
   ]
  },
  {
   "cell_type": "code",
   "execution_count": 13,
   "id": "60794c37-08d3-4d25-97e4-c5115f510f73",
   "metadata": {},
   "outputs": [],
   "source": [
    "# Metinlerden matematiksel skor çıkarmak için gerekli nesnemiz\n",
    "sia = SentimentIntensityAnalyzer()"
   ]
  },
  {
   "cell_type": "markdown",
   "id": "3ac6a67e-f987-48eb-8f4e-3556d2b55dd6",
   "metadata": {},
   "source": [
    "> * **Adım 2:** SentimentIntensityAnalyzer nesnesi ile polarite puanlarının inceleyiniz; \n",
    ">> * \"Review\" değişkeninin ilk 10 gözlemi için polarity_scores() hesaplayınız. \n",
    ">> * İncelenen ilk 10 gözlem için compund skorlarına göre filtrelenerek tekrar gözlemleyiniz. \n",
    ">> * 10 gözlem için compound skorları 0'dan büyükse \"pos\" değilse \"neg\" şeklinde güncelleyiniz. \n",
    ">> * \"Review\" değişkenindeki tüm gözlemler için pos-neg atamasını yaparak yeni bir değişken olarak dataframe'e\n",
    "ekleyiniz. "
   ]
  },
  {
   "cell_type": "code",
   "execution_count": 14,
   "id": "06d07fb7-e123-4e23-bd8e-abc5cddd406a",
   "metadata": {},
   "outputs": [
    {
     "data": {
      "text/plain": [
       "0   0.57\n",
       "1   0.44\n",
       "2   0.72\n",
       "3   0.00\n",
       "4   0.90\n",
       "5   0.00\n",
       "6   0.62\n",
       "7   0.91\n",
       "8   0.00\n",
       "9   0.71\n",
       "Name: polarity_score, dtype: float64"
      ]
     },
     "execution_count": 14,
     "metadata": {},
     "output_type": "execute_result"
    }
   ],
   "source": [
    "df[\"polarity_score\"] = df[\"Review\"].apply(lambda x: sia.polarity_scores(x)[\"compound\"])\n",
    "df.polarity_score[:10]"
   ]
  },
  {
   "cell_type": "code",
   "execution_count": 15,
   "id": "a9be30fa-1834-4592-bbf3-ecd245232e7e",
   "metadata": {},
   "outputs": [
    {
     "data": {
      "text/plain": [
       "pos    4767\n",
       "neg     844\n",
       "Name: sentiment_label, dtype: int64"
      ]
     },
     "execution_count": 15,
     "metadata": {},
     "output_type": "execute_result"
    }
   ],
   "source": [
    "df[\"sentiment_label\"] = df[\"Review\"].apply(lambda x: \"pos\" if sia.polarity_scores(x)[\"compound\"] > 0 else \"neg\")\n",
    "\n",
    "df[\"sentiment_label\"].value_counts()"
   ]
  },
  {
   "cell_type": "code",
   "execution_count": 16,
   "id": "221ecf63-b0cc-43ab-8a08-f8418e74cfd4",
   "metadata": {},
   "outputs": [
    {
     "data": {
      "text/html": [
       "<div>\n",
       "<style scoped>\n",
       "    .dataframe tbody tr th:only-of-type {\n",
       "        vertical-align: middle;\n",
       "    }\n",
       "\n",
       "    .dataframe tbody tr th {\n",
       "        vertical-align: top;\n",
       "    }\n",
       "\n",
       "    .dataframe thead th {\n",
       "        text-align: right;\n",
       "    }\n",
       "</style>\n",
       "<table border=\"1\" class=\"dataframe\">\n",
       "  <thead>\n",
       "    <tr style=\"text-align: right;\">\n",
       "      <th></th>\n",
       "      <th>Star</th>\n",
       "      <th>HelpFul</th>\n",
       "      <th>Title</th>\n",
       "      <th>Review</th>\n",
       "      <th>polarity_score</th>\n",
       "      <th>sentiment_label</th>\n",
       "    </tr>\n",
       "  </thead>\n",
       "  <tbody>\n",
       "    <tr>\n",
       "      <th>0</th>\n",
       "      <td>5</td>\n",
       "      <td>0</td>\n",
       "      <td>looks great</td>\n",
       "      <td>happy</td>\n",
       "      <td>0.57</td>\n",
       "      <td>pos</td>\n",
       "    </tr>\n",
       "    <tr>\n",
       "      <th>1</th>\n",
       "      <td>5</td>\n",
       "      <td>0</td>\n",
       "      <td>Pattern did not align between the two panels.</td>\n",
       "      <td>good quality material however panel mismatched</td>\n",
       "      <td>0.44</td>\n",
       "      <td>pos</td>\n",
       "    </tr>\n",
       "    <tr>\n",
       "      <th>2</th>\n",
       "      <td>5</td>\n",
       "      <td>0</td>\n",
       "      <td>Imagery is stretched. Still fun.</td>\n",
       "      <td>product fun bedroom windowsbr imagery bit stre...</td>\n",
       "      <td>0.72</td>\n",
       "      <td>pos</td>\n",
       "    </tr>\n",
       "    <tr>\n",
       "      <th>3</th>\n",
       "      <td>5</td>\n",
       "      <td>0</td>\n",
       "      <td>Que se ven elegantes muy finas</td>\n",
       "      <td>lo unico que gustaria e que sean un poco ma la...</td>\n",
       "      <td>0.00</td>\n",
       "      <td>neg</td>\n",
       "    </tr>\n",
       "    <tr>\n",
       "      <th>4</th>\n",
       "      <td>5</td>\n",
       "      <td>0</td>\n",
       "      <td>Wow great purchase</td>\n",
       "      <td>great bang buck cant believe quality material ...</td>\n",
       "      <td>0.90</td>\n",
       "      <td>pos</td>\n",
       "    </tr>\n",
       "  </tbody>\n",
       "</table>\n",
       "</div>"
      ],
      "text/plain": [
       "   Star  HelpFul                                          Title                                             Review  polarity_score sentiment_label\n",
       "0     5        0                                    looks great                                              happy            0.57             pos\n",
       "1     5        0  Pattern did not align between the two panels.     good quality material however panel mismatched            0.44             pos\n",
       "2     5        0               Imagery is stretched. Still fun.  product fun bedroom windowsbr imagery bit stre...            0.72             pos\n",
       "3     5        0                 Que se ven elegantes muy finas  lo unico que gustaria e que sean un poco ma la...            0.00             neg\n",
       "4     5        0                             Wow great purchase  great bang buck cant believe quality material ...            0.90             pos"
      ]
     },
     "execution_count": 16,
     "metadata": {},
     "output_type": "execute_result"
    }
   ],
   "source": [
    "df.head()"
   ]
  },
  {
   "cell_type": "code",
   "execution_count": 17,
   "id": "ce459089-7b61-40f7-a112-da58e8ad7cb9",
   "metadata": {},
   "outputs": [
    {
     "data": {
      "text/plain": [
       "sentiment_label\n",
       "neg   3.39\n",
       "pos   4.59\n",
       "Name: Star, dtype: float64"
      ]
     },
     "execution_count": 17,
     "metadata": {},
     "output_type": "execute_result"
    }
   ],
   "source": [
    "# Oluşturduğumuz \"label\" kırılımında verilen yıldızların ortalamasına bakalım.\n",
    "\n",
    "df.groupby(\"sentiment_label\")[\"Star\"].mean()\n",
    "# Pozitif olarak etiketlediğimiz yorumlara verilen yıldız sayısının daha yüksek olduğunu görüyoruz."
   ]
  },
  {
   "cell_type": "code",
   "execution_count": 18,
   "id": "059464e7-e4cb-4928-80a7-64901f0821a0",
   "metadata": {},
   "outputs": [
    {
     "data": {
      "text/plain": [
       "sentiment_label\n",
       "neg   0.82\n",
       "pos   1.01\n",
       "Name: HelpFul, dtype: float64"
      ]
     },
     "execution_count": 18,
     "metadata": {},
     "output_type": "execute_result"
    }
   ],
   "source": [
    "# Oluşturduğumuz \"label\" kırılımında faydalı bulunan yorumların sayısının ortalamasına bakalım.\n",
    "\n",
    "df.groupby(\"sentiment_label\")[\"HelpFul\"].mean()\n",
    "\n",
    "# Pozitif olarak sınıflandırdığımız yorumları faydalı bulanlar (destekleyenler) oldukça fazla."
   ]
  },
  {
   "cell_type": "markdown",
   "id": "c95e5e3e-4bd3-4f10-9399-50f4df327317",
   "metadata": {},
   "source": [
    "# Görev-4: Makine Öğrenmesi Hazırlık"
   ]
  },
  {
   "cell_type": "markdown",
   "id": "5c9eac34-598d-428f-8678-661618184000",
   "metadata": {},
   "source": [
    "> * **Adım 1:** Bağımlı ve bağımsız değişkenlerimizi belirleyerek datayı train test olarak ayırınız."
   ]
  },
  {
   "cell_type": "code",
   "execution_count": 19,
   "id": "bb873551-6eb1-4828-a151-393a03e3fe59",
   "metadata": {},
   "outputs": [],
   "source": [
    "# Target değişkenimizi LabelEncoder'dan geçiriyoruz.\n",
    "df[\"sentiment_label\"] = LabelEncoder().fit_transform(df[\"sentiment_label\"])\n",
    "\n",
    "y = df[\"sentiment_label\"] # Bağımlı Değişkenimiz\n",
    "X = df[\"Review\"] # Bağımsız Değişkenimiz\n",
    "\n",
    "X_train, X_test, y_train, y_test = train_test_split(X, y, test_size=0.3, random_state=42)"
   ]
  },
  {
   "cell_type": "markdown",
   "id": "0b1af4b1-f614-4226-af1e-1536115674b5",
   "metadata": {},
   "source": [
    "> * **Adım 2:** Makine öğrenmesi modeline verileri verebilmemiz için temsil şekillerini sayısala çevirmemiz gerekmekte; \n",
    ">> * TfidfVectorizer kullanarak bir nesne oluşturunuz. \n",
    ">> * Daha önce ayırmış olduğumuz train datamızı kullanarak oluşturduğumuz nesneye fit ediniz. \n",
    ">> *  Oluşturmuş olduğumuz vektörü train ve test datalarına transform işlemini uygulayıp kaydediniz. "
   ]
  },
  {
   "cell_type": "code",
   "execution_count": 20,
   "id": "a5c2ce99-7b02-4eb0-a3f8-7b44a5362902",
   "metadata": {},
   "outputs": [],
   "source": [
    "# TF-IDF\n",
    "\n",
    "# word frekans\n",
    "from sklearn.feature_extraction.text import TfidfVectorizer\n",
    "tf_idf_word_vectorizer = TfidfVectorizer().fit(X_train)\n",
    "X_train_tf_idf_word = tf_idf_word_vectorizer.transform(X_train) # TF-IDF yöntemi ile word frekans\n",
    "X_test_tf_idf_word = tf_idf_word_vectorizer.transform(X_test) # TF-IDF yöntemi ile word frekans"
   ]
  },
  {
   "cell_type": "markdown",
   "id": "a490f7c1-4b77-4b39-a8aa-bed11812ff31",
   "metadata": {},
   "source": [
    "# Görev-5: Modelleme (Lojistik Regresyon)"
   ]
  },
  {
   "cell_type": "markdown",
   "id": "fdc444b9-e193-4781-9084-3bfb81466ca3",
   "metadata": {},
   "source": [
    "> * **Adım 1:**  Lojistik regresyon modelini kurarak train dataları ile fit ediniz. "
   ]
  },
  {
   "cell_type": "code",
   "execution_count": 21,
   "id": "9a18ea94-71a6-433c-8001-dab10ea9faa8",
   "metadata": {},
   "outputs": [],
   "source": [
    "log_model= LogisticRegression().fit(X_train_tf_idf_word, y_train)"
   ]
  },
  {
   "cell_type": "markdown",
   "id": "8f85eec3-3cf3-44da-bda0-99fd01cbad06",
   "metadata": {},
   "source": [
    "> * **Adım 2:** Kurmuş olduğunuz model ile tahmin işlemleri gerçekleştiriniz; \n",
    ">> * Predict fonksiyonu ile test datasını tahmin ederek kaydediniz. \n",
    ">> * classification_report ile tahmin sonuçlarınızı raporlayıp gözlemleyiniz. \n",
    ">> * cross validation fonksiyonunu kullanarak ortalama accuracy değerini hesaplayınız."
   ]
  },
  {
   "cell_type": "code",
   "execution_count": 22,
   "id": "b136acdd-1fad-4d2b-ba43-0a9ad84a0493",
   "metadata": {},
   "outputs": [
    {
     "name": "stdout",
     "output_type": "stream",
     "text": [
      "              precision    recall  f1-score   support\n",
      "\n",
      "           0       0.90      0.29      0.44       256\n",
      "           1       0.89      0.99      0.94      1428\n",
      "\n",
      "    accuracy                           0.89      1684\n",
      "   macro avg       0.90      0.64      0.69      1684\n",
      "weighted avg       0.89      0.89      0.86      1684\n",
      "\n"
     ]
    }
   ],
   "source": [
    "# Test datası üzerinde word frekans tabanlı modelimizin başarısı\n",
    "y_pred = log_model.predict(X_test_tf_idf_word)\n",
    "print(classification_report(y_test, y_pred))"
   ]
  },
  {
   "cell_type": "code",
   "execution_count": 23,
   "id": "9fc76591-597c-4039-a5c1-9f86c17ae32b",
   "metadata": {},
   "outputs": [
    {
     "data": {
      "text/plain": [
       "0.8790421549083485"
      ]
     },
     "execution_count": 23,
     "metadata": {},
     "output_type": "execute_result"
    }
   ],
   "source": [
    "# Train datası için cross validation\n",
    "\n",
    "cross_val_score(log_model,\n",
    "                X_train_tf_idf_word,\n",
    "                y_train,\n",
    "                scoring=\"accuracy\",\n",
    "                cv=5).mean()"
   ]
  },
  {
   "cell_type": "code",
   "execution_count": 24,
   "id": "213fab0a-b9f8-411c-b92c-9a0a5855b468",
   "metadata": {},
   "outputs": [
    {
     "data": {
      "text/plain": [
       "0.8598558711318354"
      ]
     },
     "execution_count": 24,
     "metadata": {},
     "output_type": "execute_result"
    }
   ],
   "source": [
    "# Test datası için cross validation\n",
    "cross_val_score(log_model,\n",
    "                X_test_tf_idf_word,\n",
    "                y_test,\n",
    "                scoring=\"accuracy\",\n",
    "                cv=5).mean()"
   ]
  },
  {
   "cell_type": "markdown",
   "id": "e4383178-3492-4980-bbdc-575fdb639028",
   "metadata": {},
   "source": [
    "> * **Adım 3:** Veride bulunan yorumlardan rastgele seçerek modele sorulması; \n",
    ">> * sample fonksiyonu ile \"Review\" değişkeni içerisinden örneklem seçierek yeni bir değere atayınız. \n",
    ">> * Elde ettiğiniz örneklemi modelin tahmin edebilmesi için CountVectorizer ile vektörleştiriniz. \n",
    ">> * Vektörleştirdiğiniz örneklemi fit ve transform işlemlerini yaparak kaydediniz. \n",
    ">> * Kurmuş olduğunuz modele örneklemi vererek tahmin sonucunu kaydediniz. \n",
    ">> * Örneklemi ve tahmin sonucunu ekrana yazdırınız."
   ]
  },
  {
   "cell_type": "code",
   "execution_count": 25,
   "id": "adac72d0-ec9f-4bae-aa80-58fc073d1537",
   "metadata": {},
   "outputs": [
    {
     "name": "stdout",
     "output_type": "stream",
     "text": [
      "[1]\n"
     ]
    }
   ],
   "source": [
    "# Verimizden random bir Review seçiyoruz.\n",
    "random_review = pd.Series(df[\"Review\"].sample(1).values)\n",
    "\n",
    "\n",
    "# Gelen ham yorumu daha önce yaptığımız işlemlerden geçirmeyi unutmamalıyız!!!!\n",
    "random_review = TfidfVectorizer().fit(X_train).transform(random_review)\n",
    "\n",
    "print(log_model.predict(random_review))\n"
   ]
  },
  {
   "cell_type": "markdown",
   "id": "f4c2f37d-de35-4339-b34d-ce5919a48e07",
   "metadata": {},
   "source": [
    "# Görev-6: Modelleme (Random Forest)"
   ]
  },
  {
   "cell_type": "markdown",
   "id": "f4d4f58c-2c15-48bb-b10f-9be905bef6c8",
   "metadata": {},
   "source": [
    "> * **Adım 1:** Random Forest modeli ile tahmin sonuçlarının gözlenmesi; \n",
    ">> * RandomForestClassifier modelini kurup fit ediniz. \n",
    ">> * Cross validation fonksiyonunu kullanarak ortalama accuracy değerini hesaplayınız. \n",
    ">> * Lojistik regresyon modeli ile sonuçları karşılaştırınız. "
   ]
  },
  {
   "cell_type": "code",
   "execution_count": 26,
   "id": "12b802e4-0d34-4c9a-9cee-7790ad3fd92d",
   "metadata": {},
   "outputs": [
    {
     "data": {
      "text/plain": [
       "0.9116344953890536"
      ]
     },
     "execution_count": 26,
     "metadata": {},
     "output_type": "execute_result"
    }
   ],
   "source": [
    "# TF-IDF Word-Level\n",
    "\n",
    "rf_model = RandomForestClassifier().fit(X_train_tf_idf_word, y_train)\n",
    "\n",
    "# Train datası için accuracy\n",
    "cross_val_score(rf_model, \n",
    "                X_train_tf_idf_word, \n",
    "                y_train, \n",
    "                scoring=\"accuracy\",\n",
    "                cv=5, n_jobs=-1).mean()"
   ]
  },
  {
   "cell_type": "code",
   "execution_count": 27,
   "id": "78dcb0cb-02b2-483c-87f0-c7f888935c81",
   "metadata": {},
   "outputs": [
    {
     "data": {
      "text/plain": [
       "0.8889430549667938"
      ]
     },
     "execution_count": 27,
     "metadata": {},
     "output_type": "execute_result"
    }
   ],
   "source": [
    "# Test datası\n",
    "cross_val_score(rf_model, \n",
    "                X_test_tf_idf_word, \n",
    "                y_test, \n",
    "                scoring=\"accuracy\",\n",
    "                cv=5, n_jobs=-1).mean()"
   ]
  },
  {
   "cell_type": "markdown",
   "id": "45f8a5de-2e89-4fc6-b5b3-22ca7df7357f",
   "metadata": {},
   "source": [
    "* LogisticRegression, test datası üzerinde accuracy değeri = 0.86 \n",
    "* RandomForest, test data üzerinde accuracy değeri = 0.89 \n",
    "\n",
    "* Bu modeller için hiperparametre optimizasyonu yapılabilir. \n",
    "* TF-IDF ile ngram frekans yaklaşımı ile bu işlemler tekrar yapılabilir. \n",
    "* Rarewords'lerden kurtulma işlemi yapılabilir."
   ]
  }
 ],
 "metadata": {
  "kernelspec": {
   "display_name": "Python 3 (ipykernel)",
   "language": "python",
   "name": "python3"
  },
  "language_info": {
   "codemirror_mode": {
    "name": "ipython",
    "version": 3
   },
   "file_extension": ".py",
   "mimetype": "text/x-python",
   "name": "python",
   "nbconvert_exporter": "python",
   "pygments_lexer": "ipython3",
   "version": "3.9.7"
  },
  "toc-autonumbering": true
 },
 "nbformat": 4,
 "nbformat_minor": 5
}
